{
 "cells": [
  {
   "cell_type": "markdown",
   "metadata": {},
   "source": [
    "## Описание и реализацию алгоритмов поиска смотрел вот здесь https://habrahabr.ru/post/331192/"
   ]
  },
  {
   "cell_type": "code",
   "execution_count": 1,
   "metadata": {
    "collapsed": true
   },
   "outputs": [],
   "source": [
    "import math\n",
    "import heapq\n",
    "import numpy as np\n",
    "import xml.etree.ElementTree as ET\n",
    "\n",
    "from pprint import pprint"
   ]
  },
  {
   "cell_type": "code",
   "execution_count": 2,
   "metadata": {
    "collapsed": true
   },
   "outputs": [],
   "source": [
    "def read_xml(xml_path):\n",
    "    tree = ET.parse(xml_path)\n",
    "    root = tree.getroot()\n",
    "    params = dict()\n",
    "    \n",
    "    def get_grid():\n",
    "        rows = []\n",
    "        for i in root.findall(\"map/grid/row\"):\n",
    "            rows.append([_ for _ in map(int, i.text.split(' '))])\n",
    "        return rows\n",
    "    \n",
    "    # get parametrs from xml\n",
    "    params[\"width\"] = int(root.find(\"map/width\").text)\n",
    "    params[\"height\"] = int(root.find(\"map/height\").text)\n",
    "    params[\"startx\"] = int(root.find(\"map/startx\").text)\n",
    "    params[\"starty\"] = int(root.find(\"map/starty\").text)\n",
    "    params[\"finishx\"] = int(root.find(\"map/finishx\").text)\n",
    "    params[\"finishy\"] = int(root.find(\"map/finishy\").text)\n",
    "    params[\"grid\"] = get_grid()\n",
    "    params[\"searchtype\"] = root.find('algorithm/searchtype').text # \"astar\", \"theta\", \"jp_search\", \"bfs\", \"dijkstra\"\n",
    "    params[\"metrictype\"] = root.find('algorithm/metrictype').text # \"euclidean\", \"diagonal\", \"manhattan\", \"chebyshev\"\n",
    "    params[\"breakingties\"] = root.find('algorithm/breakingties').text # \"g-min\", \"g-max\"\n",
    "    params[\"hweight\"] = float(root.find('algorithm/hweight').text)\n",
    "    params[\"allowdiagonal\"] = True if root.find('algorithm/allowdiagonal').text=='true' else False\n",
    "    params[\"cutcorners\"] = True if root.find('algorithm/cutcorners').text=='true' else False\n",
    "    params[\"allowsqueeze\"] = True if root.find('algorithm/allowsqueeze').text=='true' else False\n",
    "    params[\"loglevel\"] = float(root.find('options/loglevel').text)\n",
    "    params[\"logpath\"] = root.find('options/logpath').text\n",
    "    params[\"logfilename\"] = root.find('options/logfilename').text\n",
    "    \n",
    "    return params"
   ]
  },
  {
   "cell_type": "code",
   "execution_count": 3,
   "metadata": {},
   "outputs": [
    {
     "name": "stdout",
     "output_type": "stream",
     "text": [
      "'astar'\n",
      "[[0, 0, 0, 0, 0, 0, 0, 0, 0, 0, 0, 0, 0, 0, 0, 0, 0, 0, 0, 0, 0, 0, 0, 0, 0],\n",
      " [0, 0, 0, 0, 0, 0, 0, 0, 0, 0, 0, 0, 0, 0, 0, 0, 0, 0, 0, 0, 0, 0, 0, 0, 0],\n",
      " [0, 0, 0, 0, 0, 0, 0, 0, 0, 0, 0, 0, 0, 0, 0, 0, 0, 0, 0, 0, 0, 0, 0, 0, 0],\n",
      " [0, 0, 0, 0, 0, 0, 0, 0, 0, 0, 0, 0, 0, 0, 0, 0, 0, 0, 0, 0, 0, 0, 0, 0, 0],\n",
      " [0, 0, 0, 0, 0, 0, 0, 0, 0, 0, 0, 0, 0, 0, 0, 0, 0, 0, 0, 0, 0, 0, 0, 0, 0],\n",
      " [0, 0, 0, 0, 1, 1, 1, 1, 1, 1, 0, 0, 0, 0, 0, 0, 1, 1, 1, 1, 1, 1, 1, 0, 0],\n",
      " [0, 0, 0, 0, 1, 1, 1, 1, 1, 1, 0, 0, 0, 0, 0, 0, 1, 1, 1, 1, 1, 1, 1, 0, 0],\n",
      " [0, 0, 0, 0, 1, 1, 1, 1, 1, 1, 0, 0, 0, 0, 0, 0, 1, 1, 1, 1, 1, 1, 1, 0, 0],\n",
      " [0, 0, 0, 0, 1, 1, 1, 1, 1, 1, 0, 0, 0, 0, 0, 0, 1, 1, 1, 1, 1, 1, 1, 0, 0],\n",
      " [0, 0, 0, 0, 0, 0, 0, 0, 0, 0, 1, 1, 1, 1, 1, 1, 0, 0, 0, 0, 0, 0, 0, 0, 0],\n",
      " [0, 0, 0, 0, 0, 0, 0, 0, 0, 0, 1, 1, 1, 1, 1, 1, 0, 0, 0, 0, 0, 0, 0, 0, 0],\n",
      " [0, 0, 0, 0, 0, 0, 0, 0, 0, 0, 1, 1, 1, 1, 1, 1, 0, 0, 0, 0, 0, 0, 0, 0, 0],\n",
      " [0, 0, 0, 0, 0, 0, 0, 0, 0, 0, 1, 1, 1, 1, 1, 1, 0, 0, 0, 0, 0, 0, 0, 0, 0],\n",
      " [0, 0, 0, 0, 0, 0, 0, 0, 0, 0, 1, 1, 1, 1, 1, 1, 0, 0, 0, 0, 0, 0, 0, 0, 0],\n",
      " [0, 0, 0, 0, 0, 0, 0, 0, 0, 0, 1, 1, 1, 1, 1, 1, 0, 0, 0, 0, 0, 0, 0, 0, 0],\n",
      " [0, 0, 0, 0, 0, 0, 0, 0, 0, 0, 0, 0, 0, 0, 0, 0, 0, 0, 0, 0, 0, 0, 0, 0, 0],\n",
      " [0, 0, 0, 0, 0, 0, 0, 0, 0, 0, 0, 0, 0, 0, 0, 0, 0, 0, 0, 0, 0, 0, 0, 0, 0],\n",
      " [0, 0, 0, 0, 0, 0, 0, 0, 0, 0, 0, 0, 0, 0, 0, 0, 0, 0, 0, 0, 0, 0, 0, 0, 0],\n",
      " [0, 0, 0, 0, 0, 0, 0, 0, 0, 0, 0, 0, 0, 0, 0, 0, 0, 0, 0, 0, 0, 0, 0, 0, 0],\n",
      " [0, 0, 0, 0, 0, 0, 0, 0, 0, 0, 0, 0, 0, 0, 0, 0, 0, 0, 0, 0, 0, 0, 0, 0, 0],\n",
      " [0, 0, 0, 0, 0, 0, 0, 0, 0, 0, 0, 0, 0, 0, 0, 0, 0, 0, 0, 0, 0, 0, 0, 0, 0],\n",
      " [0, 0, 0, 0, 0, 0, 0, 0, 0, 0, 0, 0, 0, 0, 0, 0, 0, 0, 0, 0, 0, 0, 0, 0, 0],\n",
      " [0, 0, 0, 0, 0, 0, 0, 0, 0, 0, 0, 0, 0, 0, 0, 0, 0, 0, 0, 0, 0, 0, 0, 0, 0],\n",
      " [0, 0, 0, 0, 0, 0, 0, 0, 0, 0, 0, 0, 0, 0, 0, 0, 0, 0, 0, 0, 0, 0, 0, 0, 0],\n",
      " [0, 0, 0, 0, 0, 0, 0, 0, 0, 0, 0, 0, 0, 0, 0, 0, 0, 0, 0, 0, 0, 0, 0, 0, 0]]\n"
     ]
    }
   ],
   "source": [
    "xml_path = \"./data/example.xml\"\n",
    "params = read_xml(xml_path)\n",
    "pprint(params[\"searchtype\"])\n",
    "pprint(params[\"grid\"])"
   ]
  },
  {
   "cell_type": "code",
   "execution_count": 4,
   "metadata": {
    "collapsed": true
   },
   "outputs": [],
   "source": [
    "class Grid():\n",
    "    def __init__(self, width, height, grid):\n",
    "        self.w = width\n",
    "        self.h = height\n",
    "        self.grid = grid\n",
    "        self.walls = [(i,j) for i in range(len(self.grid))\n",
    "                            for j in range(len(self.grid[i])) if self.grid[i][j]]\n",
    "    \n",
    "    \n",
    "    def is_inside(self, point):\n",
    "        return 0 <= point[0] < self.w and 0 <= point[1] < self.h\n",
    "    \n",
    "    \n",
    "    def get_value(self, point):\n",
    "        return 0 if point not in self.walls else 1\n",
    "    \n",
    "    def is_not_wall(self, point):\n",
    "        return False if self.get_value(point) else True\n",
    "\n",
    "    \n",
    "    def is_empty_diagonal(self, from_point, to_point):\n",
    "        neighbor1 = self.get_value((to_point[0], from_point[1]))\n",
    "        neighbor2 = self.get_value((from_point[0], to_point[1]))\n",
    "        return not neighbor1 and not neighbor2\n",
    "    \n",
    "    \n",
    "    def neighbors(self, point, allow_diagonal=False, cut_corners=False, allow_sq=False):\n",
    "        x = point[0]\n",
    "        y = point[1]\n",
    "        \n",
    "        neighbors = [(x + 1, y),\n",
    "                     (x - 1, y),\n",
    "                     (x, y + 1),\n",
    "                     (x, y - 1)]\n",
    "        \n",
    "        diagonal_neighbors = set([(x - 1, y - 1),\n",
    "                              (x - 1, y + 1),\n",
    "                              (x + 1, y - 1),\n",
    "                              (x + 1, y + 1)])\n",
    "        if not cut_corners:\n",
    "            for dif_x in [1, -1]:\n",
    "                for dif_y in [1, -1]:\n",
    "                    if self.get_value((x + dif_x, y)) and self.get_value((x, y + dif_y)):\n",
    "                        diagonal_neighbors.discard((x + dif_x, y + dif_y))\n",
    "\n",
    "        if not allow_sq:\n",
    "            for dif_x in [1, -1]:\n",
    "                for dif_y in [1, -1]:\n",
    "                    if self.get_value((x + dif_x, y)) or self.get_value((x, y + dif_y)):\n",
    "                        diagonal_neighbors.discard((x + dif_x, y + dif_y))\n",
    "            \n",
    "        if allow_diagonal:\n",
    "            neighbors += list(diagonal_neighbors)\n",
    "            \n",
    "        neighbors = list(filter(self.is_inside, neighbors)) \n",
    "        neighbors = list(filter(self.is_not_wall, neighbors))\n",
    "        \n",
    "        return neighbors\n",
    "    \n",
    "    \n",
    "    def cost(self, start_point, end_point, method='euclidean'):\n",
    "        return pow(pow((start_point[0] - end_point[0]), 2) + pow((start_point[1] - end_point[1]), 2), 0.5)"
   ]
  },
  {
   "cell_type": "code",
   "execution_count": 5,
   "metadata": {
    "collapsed": true
   },
   "outputs": [],
   "source": [
    "class PriorityQueue:\n",
    "    def __init__(self):\n",
    "        self.elements = []\n",
    "    \n",
    "    def empty(self):\n",
    "        return len(self.elements) == 0\n",
    "    \n",
    "    def put(self, item, priority):\n",
    "        heapq.heappush(self.elements, (priority, item))\n",
    "    \n",
    "    def get(self):\n",
    "        return heapq.heappop(self.elements)[1]"
   ]
  },
  {
   "cell_type": "code",
   "execution_count": 6,
   "metadata": {
    "collapsed": true
   },
   "outputs": [],
   "source": [
    "def heuristic(first_point, second_point, method='euclidean'):\n",
    "    \"\"\"\n",
    "    euclidean,\n",
    "    diagonal,\n",
    "    manhattan,\n",
    "    chebyshev\n",
    "    \"\"\"\n",
    "    \n",
    "    dx = abs(first_point[0] - second_point[0])\n",
    "    dy = abs(first_point[1] - second_point[1])\n",
    "    \n",
    "    if method == 'euclidean':\n",
    "        result = math.sqrt(dx ** 2 + dy ** 2)\n",
    "    elif method == 'manhattan':\n",
    "        result = dx + dy\n",
    "    elif method == 'diagonal':\n",
    "        result = (dx + dy) + (math.sqrt(2) - 2) * min(dx, dy)\n",
    "    elif method == 'chebyshev':\n",
    "        result = (dx + dy) - min(dx, dy)\n",
    "        \n",
    "    return result"
   ]
  },
  {
   "cell_type": "code",
   "execution_count": 7,
   "metadata": {
    "collapsed": true
   },
   "outputs": [],
   "source": [
    "def a_star(grid, start_point, end_point,\n",
    "           allow_diagonal=False, cut_corners=False, allow_sq=False,\n",
    "           heuristic_method='euclidean'):\n",
    "    \n",
    "    C = 0\n",
    "    frontier = PriorityQueue()\n",
    "    frontier.put(start_point, 0)\n",
    "    came_from = {}\n",
    "    cost_so_far = {}\n",
    "    came_from[start_point] = None\n",
    "    cost_so_far[start_point] = 0\n",
    "    path = [end_point]\n",
    "    \n",
    "    while not frontier.empty():\n",
    "        C += 1\n",
    "        current_point = frontier.get()\n",
    "\n",
    "        if current_point == end_point:\n",
    "            while came_from[current_point] != start_point:\n",
    "                path.append(came_from[current_point])\n",
    "                current_point = came_from[current_point]\n",
    "            path.append(start_point)\n",
    "            print('Path was found!, C = {}'.format(C))\n",
    "            return C, path\n",
    "\n",
    "        for neighbor_point in grid.neighbors(current_point, allow_diagonal, cut_corners, allow_sq):\n",
    "            new_cost = cost_so_far[current_point] + grid.cost(current_point, neighbor_point)\n",
    "            if neighbor_point not in cost_so_far or new_cost < cost_so_far[neighbor_point]:\n",
    "                cost_so_far[neighbor_point] = new_cost\n",
    "                priority = new_cost + heuristic(end_point, neighbor_point, method=heuristic_method)\n",
    "                frontier.put(neighbor_point, priority)\n",
    "                came_from[neighbor_point] = current_point"
   ]
  },
  {
   "cell_type": "code",
   "execution_count": 8,
   "metadata": {},
   "outputs": [],
   "source": [
    "start_point = (params[\"starty\"], params[\"startx\"])\n",
    "end_point = (params[\"finishy\"], params[\"finishx\"])\n",
    "grid = Grid(params[\"width\"], params[\"height\"], params[\"grid\"])"
   ]
  },
  {
   "cell_type": "code",
   "execution_count": 9,
   "metadata": {},
   "outputs": [
    {
     "name": "stdout",
     "output_type": "stream",
     "text": [
      "Path was found!, C = 408\n"
     ]
    }
   ],
   "source": [
    "_ = a_star(grid, start_point, end_point)"
   ]
  },
  {
   "cell_type": "code",
   "execution_count": 10,
   "metadata": {},
   "outputs": [
    {
     "name": "stdout",
     "output_type": "stream",
     "text": [
      "Path was found!, C = 404\n"
     ]
    }
   ],
   "source": [
    "_ = a_star(grid, start_point, end_point, heuristic_method='diagonal')"
   ]
  },
  {
   "cell_type": "code",
   "execution_count": 11,
   "metadata": {},
   "outputs": [
    {
     "name": "stdout",
     "output_type": "stream",
     "text": [
      "Path was found!, C = 527\n"
     ]
    }
   ],
   "source": [
    "_ = a_star(grid, start_point, end_point, allow_diagonal=True)"
   ]
  },
  {
   "cell_type": "code",
   "execution_count": 12,
   "metadata": {},
   "outputs": [
    {
     "name": "stdout",
     "output_type": "stream",
     "text": [
      "Path was found!, C = 527\n"
     ]
    }
   ],
   "source": [
    "_ = a_star(grid, start_point, end_point, allow_diagonal=True, cut_corners=True)"
   ]
  },
  {
   "cell_type": "code",
   "execution_count": 13,
   "metadata": {},
   "outputs": [
    {
     "name": "stdout",
     "output_type": "stream",
     "text": [
      "Path was found!, C = 70\n"
     ]
    }
   ],
   "source": [
    "_ = a_star(grid, start_point, end_point, allow_diagonal=True, cut_corners=True, allow_sq=True)"
   ]
  },
  {
   "cell_type": "code",
   "execution_count": 14,
   "metadata": {
    "collapsed": true
   },
   "outputs": [],
   "source": [
    "def dijkstra(grid, start_point, end_point,\n",
    "           allow_diagonal=False, cut_corners=False, allow_sq=False):\n",
    "    \n",
    "    C = 0\n",
    "    frontier = PriorityQueue()\n",
    "    frontier.put(start_point, 0)\n",
    "    came_from = {}\n",
    "    cost_so_far = {}\n",
    "    came_from[start_point] = None\n",
    "    cost_so_far[start_point] = 0\n",
    "    path = [end_point]\n",
    "    \n",
    "    while not frontier.empty():\n",
    "        C += 1\n",
    "        current_point = frontier.get()\n",
    "\n",
    "        if current_point == end_point:\n",
    "            while came_from[current_point] != start_point:\n",
    "                path.append(came_from[current_point])\n",
    "                current_point = came_from[current_point]\n",
    "            path.append(start_point)\n",
    "            print('Path was found!, C = {}'.format(C))\n",
    "            return C, path\n",
    "\n",
    "        for neighbor_point in grid.neighbors(current_point, allow_diagonal, cut_corners, allow_sq):\n",
    "            new_cost = cost_so_far[current_point] + grid.cost(current_point, neighbor_point)\n",
    "            if neighbor_point not in cost_so_far or new_cost < cost_so_far[neighbor_point]:\n",
    "                cost_so_far[neighbor_point] = new_cost\n",
    "                priority = new_cost\n",
    "                frontier.put(neighbor_point, priority)\n",
    "                came_from[neighbor_point] = current_point"
   ]
  },
  {
   "cell_type": "code",
   "execution_count": 15,
   "metadata": {},
   "outputs": [
    {
     "name": "stdout",
     "output_type": "stream",
     "text": [
      "Path was found!, C = 519\n"
     ]
    }
   ],
   "source": [
    "_ = dijkstra(grid, start_point, end_point)"
   ]
  },
  {
   "cell_type": "code",
   "execution_count": 16,
   "metadata": {},
   "outputs": [
    {
     "name": "stdout",
     "output_type": "stream",
     "text": [
      "Path was found!, C = 563\n"
     ]
    }
   ],
   "source": [
    "_ = dijkstra(grid, start_point, end_point, allow_diagonal=True)"
   ]
  },
  {
   "cell_type": "markdown",
   "metadata": {},
   "source": [
    "---"
   ]
  },
  {
   "cell_type": "code",
   "execution_count": 17,
   "metadata": {},
   "outputs": [],
   "source": [
    "def write_log(name, C, path, grid):\n",
    "    with open('{}_log.txt'.format(name), 'w') as f:\n",
    "        f.write(\"C = {}\".format(C))\n",
    "        f.write(\"\\n\")\n",
    "        \n",
    "        f.write(\"\\nPath: \\n\")\n",
    "        for point in path:\n",
    "            f.write(\"{}, {}\\n\".format(point[0], point[1]))\n",
    "                    \n",
    "        f.write(\"\\nGrid:\\n\")        \n",
    "        grid_with_path = grid\n",
    "        for point in path:\n",
    "            grid_with_path[point[0]][point[1]] = \"*\"\n",
    "        for raw in grid:\n",
    "            f.write(\" \".join(map(str, raw)))\n",
    "            f.write(\"\\n\")"
   ]
  },
  {
   "cell_type": "code",
   "execution_count": 18,
   "metadata": {},
   "outputs": [
    {
     "name": "stdout",
     "output_type": "stream",
     "text": [
      "Path was found!, C = 527\n"
     ]
    }
   ],
   "source": [
    "C, path = a_star(grid, start_point, end_point, allow_diagonal=True)\n",
    "write_log('astar', C, path, params[\"grid\"])"
   ]
  },
  {
   "cell_type": "code",
   "execution_count": 19,
   "metadata": {},
   "outputs": [
    {
     "name": "stdout",
     "output_type": "stream",
     "text": [
      "Path was found!, C = 519\n"
     ]
    }
   ],
   "source": [
    "C, path = dijkstra(grid, start_point, end_point)\n",
    "write_log('dijkstra', C, path, params[\"grid\"])"
   ]
  },
  {
   "cell_type": "code",
   "execution_count": null,
   "metadata": {
    "collapsed": true
   },
   "outputs": [],
   "source": []
  }
 ],
 "metadata": {
  "kernelspec": {
   "display_name": "Python 3",
   "language": "python",
   "name": "python3"
  },
  "language_info": {
   "codemirror_mode": {
    "name": "ipython",
    "version": 3
   },
   "file_extension": ".py",
   "mimetype": "text/x-python",
   "name": "python",
   "nbconvert_exporter": "python",
   "pygments_lexer": "ipython3",
   "version": "3.6.1"
  }
 },
 "nbformat": 4,
 "nbformat_minor": 2
}
