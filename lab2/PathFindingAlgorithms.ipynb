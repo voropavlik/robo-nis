{
 "cells": [
  {
   "cell_type": "code",
   "execution_count": 36,
   "metadata": {
    "collapsed": true
   },
   "outputs": [],
   "source": [
    "import heapq\n",
    "import numpy as np\n",
    "import xml.etree.ElementTree as ET\n",
    "\n",
    "from pprint import pprint"
   ]
  },
  {
   "cell_type": "code",
   "execution_count": 37,
   "metadata": {
    "collapsed": true
   },
   "outputs": [],
   "source": [
    "def read_xml(xml_path):\n",
    "    tree = ET.parse(xml_path)\n",
    "    root = tree.getroot()\n",
    "    params = dict()\n",
    "    \n",
    "    def get_grid():\n",
    "        rows = []\n",
    "        for i in root.findall(\"map/grid/row\"):\n",
    "            rows.append([_ for _ in map(int, i.text.split(' '))])\n",
    "        return rows\n",
    "    \n",
    "    # get parametrs from xml\n",
    "    params[\"width\"] = int(root.find(\"map/width\").text)\n",
    "    params[\"height\"] = int(root.find(\"map/height\").text)\n",
    "    params[\"startx\"] = int(root.find(\"map/startx\").text)\n",
    "    params[\"starty\"] = int(root.find(\"map/starty\").text)\n",
    "    params[\"finishx\"] = int(root.find(\"map/finishx\").text)\n",
    "    params[\"finishy\"] = int(root.find(\"map/finishy\").text)\n",
    "    params[\"grid\"] = get_grid()\n",
    "    params[\"searchtype\"] = root.find('algorithm/searchtype').text # \"astar\", \"theta\", \"jp_search\", \"bfs\", \"dijkstra\"\n",
    "    params[\"metrictype\"] = root.find('algorithm/metrictype').text # \"euclidean\", \"diagonal\", \"manhattan\", \"chebyshev\"\n",
    "    params[\"breakingties\"] = root.find('algorithm/breakingties').text # \"g-min\", \"g-max\"\n",
    "    params[\"hweight\"] = float(root.find('algorithm/hweight').text)\n",
    "    params[\"allowdiagonal\"] = True if root.find('algorithm/allowdiagonal').text=='true' else False\n",
    "    params[\"cutcorners\"] = True if root.find('algorithm/cutcorners').text=='true' else False\n",
    "    params[\"allowsqueeze\"] = True if root.find('algorithm/allowsqueeze').text=='true' else False\n",
    "    params[\"loglevel\"] = float(root.find('options/loglevel').text)\n",
    "    params[\"logpath\"] = root.find('options/logpath').text\n",
    "    params[\"logfilename\"] = root.find('options/logfilename').text\n",
    "    \n",
    "    return params"
   ]
  },
  {
   "cell_type": "code",
   "execution_count": 38,
   "metadata": {},
   "outputs": [
    {
     "name": "stdout",
     "output_type": "stream",
     "text": [
      "'astar'\n",
      "[[0, 0, 0, 0, 0, 0, 0, 0, 0, 0, 0, 0, 0, 0, 0, 0, 0, 0, 0, 0, 0, 0, 0, 0, 0],\n",
      " [0, 0, 0, 0, 0, 0, 0, 0, 0, 0, 0, 0, 0, 0, 0, 0, 0, 0, 0, 0, 0, 0, 0, 0, 0],\n",
      " [0, 0, 0, 0, 0, 0, 0, 0, 0, 0, 0, 0, 0, 0, 0, 0, 0, 0, 0, 0, 0, 0, 0, 0, 0],\n",
      " [0, 0, 0, 0, 0, 0, 0, 0, 0, 0, 0, 0, 0, 0, 0, 0, 0, 0, 0, 0, 0, 0, 0, 0, 0],\n",
      " [0, 0, 0, 0, 0, 0, 0, 0, 0, 0, 0, 0, 0, 0, 0, 0, 0, 0, 0, 0, 0, 0, 0, 0, 0],\n",
      " [0, 0, 0, 0, 1, 1, 1, 1, 1, 1, 0, 0, 0, 0, 0, 0, 1, 1, 1, 1, 1, 1, 1, 0, 0],\n",
      " [0, 0, 0, 0, 1, 1, 1, 1, 1, 1, 0, 0, 0, 0, 0, 0, 1, 1, 1, 1, 1, 1, 1, 0, 0],\n",
      " [0, 0, 0, 0, 1, 1, 1, 1, 1, 1, 0, 0, 0, 0, 0, 0, 1, 1, 1, 1, 1, 1, 1, 0, 0],\n",
      " [0, 0, 0, 0, 1, 1, 1, 1, 1, 1, 0, 0, 0, 0, 0, 0, 1, 1, 1, 1, 1, 1, 1, 0, 0],\n",
      " [0, 0, 0, 0, 0, 0, 0, 0, 0, 0, 1, 1, 1, 1, 1, 1, 0, 0, 0, 0, 0, 0, 0, 0, 0],\n",
      " [0, 0, 0, 0, 0, 0, 0, 0, 0, 0, 1, 1, 1, 1, 1, 1, 0, 0, 0, 0, 0, 0, 0, 0, 0],\n",
      " [0, 0, 0, 0, 0, 0, 0, 0, 0, 0, 1, 1, 1, 1, 1, 1, 0, 0, 0, 0, 0, 0, 0, 0, 0],\n",
      " [0, 0, 0, 0, 0, 0, 0, 0, 0, 0, 1, 1, 1, 1, 1, 1, 0, 0, 0, 0, 0, 0, 0, 0, 0],\n",
      " [0, 0, 0, 0, 0, 0, 0, 0, 0, 0, 1, 1, 1, 1, 1, 1, 0, 0, 0, 0, 0, 0, 0, 0, 0],\n",
      " [0, 0, 0, 0, 0, 0, 0, 0, 0, 0, 1, 1, 1, 1, 1, 1, 0, 0, 0, 0, 0, 0, 0, 0, 0],\n",
      " [0, 0, 0, 0, 0, 0, 0, 0, 0, 0, 0, 0, 0, 0, 0, 0, 0, 0, 0, 0, 0, 0, 0, 0, 0],\n",
      " [0, 0, 0, 0, 0, 0, 0, 0, 0, 0, 0, 0, 0, 0, 0, 0, 0, 0, 0, 0, 0, 0, 0, 0, 0],\n",
      " [0, 0, 0, 0, 0, 0, 0, 0, 0, 0, 0, 0, 0, 0, 0, 0, 0, 0, 0, 0, 0, 0, 0, 0, 0],\n",
      " [0, 0, 0, 0, 0, 0, 0, 0, 0, 0, 0, 0, 0, 0, 0, 0, 0, 0, 0, 0, 0, 0, 0, 0, 0],\n",
      " [0, 0, 0, 0, 0, 0, 0, 0, 0, 0, 0, 0, 0, 0, 0, 0, 0, 0, 0, 0, 0, 0, 0, 0, 0],\n",
      " [0, 0, 0, 0, 0, 0, 0, 0, 0, 0, 0, 0, 0, 0, 0, 0, 0, 0, 0, 0, 0, 0, 0, 0, 0],\n",
      " [0, 0, 0, 0, 0, 0, 0, 0, 0, 0, 0, 0, 0, 0, 0, 0, 0, 0, 0, 0, 0, 0, 0, 0, 0],\n",
      " [0, 0, 0, 0, 0, 0, 0, 0, 0, 0, 0, 0, 0, 0, 0, 0, 0, 0, 0, 0, 0, 0, 0, 0, 0],\n",
      " [0, 0, 0, 0, 0, 0, 0, 0, 0, 0, 0, 0, 0, 0, 0, 0, 0, 0, 0, 0, 0, 0, 0, 0, 0],\n",
      " [0, 0, 0, 0, 0, 0, 0, 0, 0, 0, 0, 0, 0, 0, 0, 0, 0, 0, 0, 0, 0, 0, 0, 0, 0]]\n"
     ]
    }
   ],
   "source": [
    "xml_path = \"./data/example.xml\"\n",
    "params = read_xml(xml_path)\n",
    "pprint(params[\"searchtype\"])\n",
    "pprint(params[\"grid\"])"
   ]
  },
  {
   "cell_type": "code",
   "execution_count": 39,
   "metadata": {
    "collapsed": true
   },
   "outputs": [],
   "source": [
    "class Grid():\n",
    "    def __init__(self, weigth, height, grid):\n",
    "        self.w = weigth\n",
    "        self.h = height\n",
    "        self.grid = grid\n",
    "        self.walls = [(i,j) for i in range(len(self.grid))\n",
    "                            for j in range(len(self.grid[i])) if self.grid[i][j]]\n",
    "    \n",
    "    \n",
    "    def is_inside(self, point):\n",
    "        return 0 <= point[0] < self.w and 0 <= point[1] < self.h\n",
    "    \n",
    "    \n",
    "    def get_value(self, point):\n",
    "        return 0 if point not in self.walls else 1\n",
    "\n",
    "    \n",
    "    def is_empty_diagonal(self, from_point, to_point):\n",
    "        neighbor1 = self.get_value((to_point[0], from_point[1]))\n",
    "        neighbor2 = self.get_value((from_point[0], to_point[1]))\n",
    "        return not neighbor1 and not neighbor2\n",
    "    \n",
    "    \n",
    "    def neighbors(self, point, allow_diagonal=False, cut_corners=False, allow_sq=False):\n",
    "        x = point[0]\n",
    "        y = point[1]\n",
    "        \n",
    "        neighbors = [(x + 1, y),\n",
    "                     (x - 1, y),\n",
    "                     (x, y + 1),\n",
    "                     (x, y - 1)]\n",
    "        \n",
    "        diagonal_neighbors = [(x - 1, y - 1),\n",
    "                              (x - 1, y + 1),\n",
    "                              (x + 1, y - 1),\n",
    "                              (x + 1, y + 1)] \n",
    "        if not cut_corners:\n",
    "            for dif_x in [1, -1]:\n",
    "                for dif_y in [1, -1]:\n",
    "                    if self.get_value((x + dif_x, y)) and self.get_value((x, y + dif_y)):\n",
    "                        diagonal_neighbors.remove((x + dif_x, y + dif_y))\n",
    "\n",
    "        if not allow_sq:\n",
    "            for dif_x in [1, -1]:\n",
    "                for dif_y in [1, -1]:\n",
    "                    if self.get_value((x + dif_x, y)) or self.get_value((x, y + dif_y)):\n",
    "                        diagonal_neighbors.remove((x + dif_x, y + dif_y))\n",
    "            \n",
    "        if allow_diagonal:\n",
    "            neighbors += diagonal_neighbors\n",
    "            \n",
    "        neighbors = list(filter(self.is_inside, neighbors)) \n",
    "        neighbors = list(filter(not self.get_value, neighbors))\n",
    "        return neighbors\n",
    "    \n",
    "    \n",
    "    def cost(self, start_point, end_point, method='euclidean'):\n",
    "        return pow(pow((start_point[0] - end_point[0]), 2) + pow((start_point[1] - end_point[1]), 2), 0.5)"
   ]
  },
  {
   "cell_type": "code",
   "execution_count": 40,
   "metadata": {
    "collapsed": true
   },
   "outputs": [],
   "source": [
    "class PriorityQueue:\n",
    "    def __init__(self):\n",
    "        self.elements = []\n",
    "    \n",
    "    def empty(self):\n",
    "        return len(self.elements) == 0\n",
    "    \n",
    "    def put(self, item, priority):\n",
    "        heapq.heappush(self.elements, (priority, item))\n",
    "    \n",
    "    def get(self):\n",
    "        return heapq.heappop(self.elements)[1]"
   ]
  },
  {
   "cell_type": "code",
   "execution_count": null,
   "metadata": {
    "collapsed": true
   },
   "outputs": [],
   "source": []
  }
 ],
 "metadata": {
  "kernelspec": {
   "display_name": "Python 3",
   "language": "python",
   "name": "python3"
  },
  "language_info": {
   "codemirror_mode": {
    "name": "ipython",
    "version": 3
   },
   "file_extension": ".py",
   "mimetype": "text/x-python",
   "name": "python",
   "nbconvert_exporter": "python",
   "pygments_lexer": "ipython3",
   "version": "3.6.1"
  }
 },
 "nbformat": 4,
 "nbformat_minor": 2
}
