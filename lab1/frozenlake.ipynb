{
 "cells": [
  {
   "cell_type": "markdown",
   "metadata": {},
   "source": [
    "#  Lab 1\n",
    "## Voropaev Pavel, 144\n",
    "#### Frozen Lake"
   ]
  },
  {
   "cell_type": "markdown",
   "metadata": {},
   "source": [
    "In this notebook i was trying to understand how gym works, and create a few algoritms for simple game **FrozenLake 4x4**\n",
    "\n",
    "This game game is some kind of labirint, but you can sometimes slide throw the cell. There are 4 command for agent - L, R, U, D  - left, right, up and down."
   ]
  },
  {
   "cell_type": "code",
   "execution_count": 72,
   "metadata": {},
   "outputs": [
    {
     "name": "stderr",
     "output_type": "stream",
     "text": [
      "[2017-12-18 11:46:24,116] Making new env: FrozenLake-v0\n"
     ]
    }
   ],
   "source": [
    "import gym\n",
    "\n",
    "#create a single game instance\n",
    "env = gym.make(\"FrozenLake-v0\")\n",
    "\n",
    "#start new game\n",
    "env.reset();"
   ]
  },
  {
   "cell_type": "code",
   "execution_count": 73,
   "metadata": {},
   "outputs": [
    {
     "name": "stdout",
     "output_type": "stream",
     "text": [
      "\n",
      "\u001b[41mS\u001b[0mFFF\n",
      "FHFH\n",
      "FFFH\n",
      "HFFG\n"
     ]
    }
   ],
   "source": [
    "# display the game state\n",
    "env.render()"
   ]
  },
  {
   "cell_type": "markdown",
   "metadata": {},
   "source": [
    "#### Gym interface\n",
    "\n",
    "The three main methods of an environment are\n",
    "* __reset()__ - reset environment to initial state, _return first observation_\n",
    "* __render()__ - show current environment state (a more colorful version :) )\n",
    "* __step(a)__ - commit action __a__ and return (new observation, reward, is done, info)\n",
    " * _new observation_ - an observation right after commiting the action __a__\n",
    " * _reward_ - a number representing your reward for commiting action __a__\n",
    " * _is done_ - True if the MDP has just finished, False if still in progress\n",
    " * _info_ - some auxilary stuff about what just happened. Ignore it for now"
   ]
  },
  {
   "cell_type": "code",
   "execution_count": 74,
   "metadata": {
    "scrolled": true
   },
   "outputs": [
    {
     "name": "stdout",
     "output_type": "stream",
     "text": [
      "initial observation code: 0\n",
      "printing observation:\n",
      "\n",
      "\u001b[41mS\u001b[0mFFF\n",
      "FHFH\n",
      "FFFH\n",
      "HFFG\n",
      "observations: Discrete(16) n= 16\n",
      "actions: Discrete(4) n= 4\n"
     ]
    }
   ],
   "source": [
    "print(\"initial observation code:\", env.reset())\n",
    "print('printing observation:')\n",
    "env.render()\n",
    "print(\"observations:\", env.observation_space, 'n=', env.observation_space.n)\n",
    "print(\"actions:\", env.action_space, 'n=', env.action_space.n)"
   ]
  },
  {
   "cell_type": "code",
   "execution_count": 75,
   "metadata": {},
   "outputs": [
    {
     "name": "stdout",
     "output_type": "stream",
     "text": [
      "taking action 2 (right)\n",
      "new observation code: 1\n",
      "reward: 0.0\n",
      "is game over?: False\n",
      "printing new state:\n",
      "  (Right)\n",
      "S\u001b[41mF\u001b[0mFF\n",
      "FHFH\n",
      "FFFH\n",
      "HFFG\n"
     ]
    }
   ],
   "source": [
    "print(\"taking action 2 (right)\")\n",
    "new_obs, reward, is_done, _ = env.step(2)\n",
    "print(\"new observation code:\", new_obs)\n",
    "print(\"reward:\", reward)\n",
    "print(\"is game over?:\", is_done)\n",
    "print(\"printing new state:\")\n",
    "env.render()"
   ]
  },
  {
   "cell_type": "code",
   "execution_count": 76,
   "metadata": {
    "collapsed": true
   },
   "outputs": [],
   "source": [
    "action_to_i = {\n",
    "    'left':0,\n",
    "    'down':1,\n",
    "    'right':2,\n",
    "    'up':3\n",
    "}"
   ]
  },
  {
   "cell_type": "markdown",
   "metadata": {},
   "source": [
    "Now, we can try to win the game manualy. But it is really not so easy :)"
   ]
  },
  {
   "cell_type": "code",
   "execution_count": 77,
   "metadata": {},
   "outputs": [
    {
     "name": "stdout",
     "output_type": "stream",
     "text": [
      "\n",
      "\u001b[41mS\u001b[0mFFF\n",
      "FHFH\n",
      "FFFH\n",
      "HFFG\n"
     ]
    }
   ],
   "source": [
    "env.reset()\n",
    "env.render()"
   ]
  },
  {
   "cell_type": "markdown",
   "metadata": {},
   "source": [
    "Run this cell, and change the action, if you want"
   ]
  },
  {
   "cell_type": "code",
   "execution_count": 79,
   "metadata": {},
   "outputs": [
    {
     "name": "stdout",
     "output_type": "stream",
     "text": [
      "0 False 0.0\n",
      "  (Right)\n",
      "\u001b[41mS\u001b[0mFFF\n",
      "FHFH\n",
      "FFFH\n",
      "HFFG\n"
     ]
    }
   ],
   "source": [
    "new_obs, reward, is_done, _ = env.step(action_to_i['right'])\n",
    "print(new_obs,is_done, reward)\n",
    "env.render()"
   ]
  },
  {
   "cell_type": "markdown",
   "metadata": {},
   "source": [
    "## Random srtategy"
   ]
  },
  {
   "cell_type": "markdown",
   "metadata": {},
   "source": [
    "#### Now we can try to learn some simple strategy, random strategy for example"
   ]
  },
  {
   "cell_type": "code",
   "execution_count": 80,
   "metadata": {
    "collapsed": true
   },
   "outputs": [],
   "source": [
    "import numpy as np\n",
    "\n",
    "n_states = env.observation_space.n\n",
    "n_actions = env.action_space.n\n",
    "\n",
    "# create numpy array representing agent policy\n",
    "# array have size 16, so one action from 0 to 3 for each state of the game\n",
    "def get_random_policy():\n",
    "    return np.random.randint(0,n_actions,n_states)"
   ]
  },
  {
   "cell_type": "code",
   "execution_count": 81,
   "metadata": {},
   "outputs": [],
   "source": [
    "np.random.seed(42)\n",
    "policies = [get_random_policy() for i in range(10**4)]"
   ]
  },
  {
   "cell_type": "code",
   "execution_count": 83,
   "metadata": {
    "collapsed": true
   },
   "outputs": [],
   "source": [
    "# play the game with given policy\n",
    "# return total reward, if the game not end after t_max steps return current reward\n",
    "def sample_reward(env, policy, t_max=100):\n",
    "    s = env.reset()\n",
    "    total_reward = 0 \n",
    "    t = 0\n",
    "    is_done = False\n",
    "    cur_obs = 0\n",
    "    \n",
    "    while t < t_max and not is_done:\n",
    "        new_obs, reward, is_done, _ = env.step(policy[cur_obs])\n",
    "        cur_obs = new_obs\n",
    "        t += 1\n",
    "        total_reward += reward\n",
    "        \n",
    "    return total_reward"
   ]
  },
  {
   "cell_type": "code",
   "execution_count": 84,
   "metadata": {
    "collapsed": true
   },
   "outputs": [],
   "source": [
    "# run the game n_times with one policy and return average reward\n",
    "def evaluate(policy, n_times=100):\n",
    "    rewards = [sample_reward(env,policy) for _ in range(n_times)]\n",
    "    return float(np.mean(rewards))       "
   ]
  },
  {
   "cell_type": "code",
   "execution_count": 85,
   "metadata": {},
   "outputs": [
    {
     "name": "stdout",
     "output_type": "stream",
     "text": [
      "random policy:\n",
      "< ^ v <\n",
      "> H < H\n",
      "< v ^ H\n",
      "H v > G\n"
     ]
    }
   ],
   "source": [
    "# print policy in readable way\n",
    "def print_policy(policy):\n",
    "    lake = \"SFFFFHFHFFFHHFFG\"\n",
    "    assert env.spec.id == \"FrozenLake-v0\", \"this function only works with frozenlake 4x4\"\n",
    "\n",
    "    # where to move from each tile (we're a bit unsure if this is accurate)\n",
    "    arrows = ['>^v<'[a] for a in policy]\n",
    "    \n",
    "    #draw arrows above S and F only\n",
    "    signs = [arrow if tile in \"SF\" else tile for arrow, tile in zip(arrows, lake)]\n",
    "    \n",
    "    for i in range(0, 16, 4):\n",
    "        print(' '.join(signs[i:i+4]))\n",
    "\n",
    "print(\"random policy:\")\n",
    "print_policy(get_random_policy())"
   ]
  },
  {
   "cell_type": "markdown",
   "metadata": {},
   "source": [
    "#### Main loop"
   ]
  },
  {
   "cell_type": "code",
   "execution_count": null,
   "metadata": {
    "scrolled": true
   },
   "outputs": [
    {
     "name": "stderr",
     "output_type": "stream",
     "text": [
      "  0%|          | 4/10000 [00:00<05:43, 29.12it/s]"
     ]
    },
    {
     "name": "stdout",
     "output_type": "stream",
     "text": [
      "New best score: 0.0\n",
      "Best policy:\n",
      "v < v >\n",
      "< H v H\n",
      "v < < H\n",
      "H ^ > G\n",
      "New best score: 0.1\n",
      "Best policy:\n",
      "> > ^ >\n",
      "> H > H\n",
      "< < > H\n",
      "H v < G\n"
     ]
    },
    {
     "name": "stderr",
     "output_type": "stream",
     "text": [
      "  0%|          | 37/10000 [00:00<02:58, 55.78it/s]"
     ]
    },
    {
     "name": "stdout",
     "output_type": "stream",
     "text": [
      "New best score: 0.11\n",
      "Best policy:\n",
      "> ^ v ^\n",
      "> H > H\n",
      "< > > H\n",
      "H ^ v G\n"
     ]
    },
    {
     "name": "stderr",
     "output_type": "stream",
     "text": [
      "  1%|          | 74/10000 [00:01<02:46, 59.54it/s]"
     ]
    },
    {
     "name": "stdout",
     "output_type": "stream",
     "text": [
      "New best score: 0.14\n",
      "Best policy:\n",
      "< < v <\n",
      "v H > H\n",
      "^ < ^ H\n",
      "H ^ ^ G\n"
     ]
    },
    {
     "name": "stderr",
     "output_type": "stream",
     "text": [
      "\r",
      "  1%|          | 81/10000 [00:01<03:43, 44.34it/s]"
     ]
    },
    {
     "name": "stdout",
     "output_type": "stream",
     "text": [
      "New best score: 0.2\n",
      "Best policy:\n",
      "< < > >\n",
      "^ H v H\n",
      "> ^ v H\n",
      "H ^ v G\n"
     ]
    },
    {
     "name": "stderr",
     "output_type": "stream",
     "text": [
      "\r",
      "  1%|          | 87/10000 [00:01<04:25, 37.27it/s]"
     ]
    },
    {
     "name": "stdout",
     "output_type": "stream",
     "text": [
      "New best score: 0.68\n",
      "Best policy:\n",
      "> v < v\n",
      "> H v H\n",
      "< ^ > H\n",
      "H v ^ G\n"
     ]
    },
    {
     "name": "stderr",
     "output_type": "stream",
     "text": [
      " 21%|██        | 2076/10000 [00:33<02:00, 65.70it/s]"
     ]
    }
   ],
   "source": [
    "best_policy = None\n",
    "best_score = -float('inf')\n",
    "\n",
    "from tqdm import tqdm\n",
    "for i in tqdm(range(10000)):\n",
    "    policy = get_random_policy()\n",
    "    score = evaluate(policy)\n",
    "    if score > best_score:\n",
    "        best_score = score\n",
    "        best_policy = policy\n",
    "        print(\"New best score:\", score)\n",
    "        print(\"Best policy:\")\n",
    "        print_policy(best_policy)"
   ]
  },
  {
   "cell_type": "markdown",
   "metadata": {},
   "source": [
    "## Genetic algorithm"
   ]
  },
  {
   "cell_type": "code",
   "execution_count": 86,
   "metadata": {
    "collapsed": true
   },
   "outputs": [],
   "source": [
    "# for each state, with probability p take action from policy1, else policy2\n",
    "def crossover(policy1, policy2, p=0.5):\n",
    "    return np.where(np.random.random(policy1.shape[0]) <= p, policy1, policy2)"
   ]
  },
  {
   "cell_type": "code",
   "execution_count": 87,
   "metadata": {
    "collapsed": true
   },
   "outputs": [],
   "source": [
    "# for each state, with probability p replace action with random action\n",
    "def mutation(policy, p=0.1):\n",
    "    return crossover(get_random_policy(), policy, p)"
   ]
  },
  {
   "cell_type": "code",
   "execution_count": 37,
   "metadata": {
    "collapsed": true
   },
   "outputs": [],
   "source": [
    "n_epochs = 500 #how many cycles to make\n",
    "pool_size = 1000 #how many policies to maintain\n",
    "n_crossovers = 250 #how many crossovers to make on each step\n",
    "n_mutations = 250 #how many mutations to make on each tick"
   ]
  },
  {
   "cell_type": "code",
   "execution_count": 26,
   "metadata": {},
   "outputs": [
    {
     "name": "stdout",
     "output_type": "stream",
     "text": [
      "initializing...\n"
     ]
    }
   ],
   "source": [
    "print(\"initializing...\")\n",
    "pool = [get_random_policy() for _ in range(pool_size)]\n",
    "pool_scores = [evaluate(policy) for policy in pool]"
   ]
  },
  {
   "cell_type": "markdown",
   "metadata": {},
   "source": [
    "#### Main loop"
   ]
  },
  {
   "cell_type": "code",
   "execution_count": 24,
   "metadata": {
    "scrolled": true
   },
   "outputs": [
    {
     "name": "stdout",
     "output_type": "stream",
     "text": [
      "Epoch 0:\n",
      "best score: 0.2\n",
      "> v v <\n",
      "> H > H\n",
      "< v v H\n",
      "H ^ ^ G\n",
      "Epoch 1:\n",
      "best score: 0.22\n",
      "> v v <\n",
      "> H > H\n",
      "< v v H\n",
      "H ^ ^ G\n",
      "Epoch 2:\n",
      "best score: 0.22\n",
      "> v v ^\n",
      "> H > H\n",
      "< v v H\n",
      "H ^ ^ G\n",
      "Epoch 3:\n",
      "best score: 0.58\n",
      "> v > >\n",
      "> H > H\n",
      "< ^ ^ H\n",
      "H v ^ G\n",
      "Epoch 4:\n",
      "best score: 0.62\n",
      "> v > >\n",
      "> H > H\n",
      "< ^ ^ H\n",
      "H v ^ G\n",
      "Epoch 5:\n",
      "best score: 0.71\n",
      "> v > ^\n",
      "> H < H\n",
      "< ^ > H\n",
      "H v ^ G\n",
      "Epoch 6:\n",
      "best score: 0.68\n",
      "> > > ^\n",
      "> H < H\n",
      "< ^ > H\n",
      "H v ^ G\n",
      "Epoch 7:\n",
      "best score: 0.71\n",
      "> < < <\n",
      "> H > H\n",
      "< ^ > H\n",
      "H v ^ G\n",
      "Epoch 8:\n",
      "best score: 0.77\n",
      "> < ^ <\n",
      "> H v H\n",
      "< ^ > H\n",
      "H v ^ G\n",
      "Epoch 9:\n",
      "best score: 0.83\n",
      "> < < <\n",
      "> H > H\n",
      "< ^ > H\n",
      "H v ^ G\n",
      "Epoch 10:\n",
      "best score: 0.79\n",
      "> < < <\n",
      "> H v H\n",
      "< ^ > H\n",
      "H v ^ G\n",
      "Epoch 11:\n",
      "best score: 0.84\n",
      "> < < <\n",
      "> H > H\n",
      "< ^ > H\n",
      "H v ^ G\n",
      "Epoch 12:\n",
      "best score: 0.8\n",
      "> v > >\n",
      "> H v H\n",
      "< ^ > H\n",
      "H v ^ G\n",
      "Epoch 13:\n",
      "best score: 0.84\n",
      "> < < <\n",
      "> H > H\n",
      "< ^ > H\n",
      "H v ^ G\n",
      "Epoch 14:\n",
      "best score: 0.83\n",
      "> < < <\n",
      "> H v H\n",
      "< ^ > H\n",
      "H v ^ G\n",
      "Epoch 15:\n",
      "best score: 0.82\n",
      "> v > >\n",
      "> H v H\n",
      "< ^ > H\n",
      "H v ^ G\n",
      "Epoch 16:\n",
      "best score: 0.82\n",
      "> < > v\n",
      "> H v H\n",
      "< ^ > H\n",
      "H v ^ G\n",
      "Epoch 17:\n",
      "best score: 0.82\n",
      "> < > ^\n",
      "> H v H\n",
      "< ^ > H\n",
      "H v ^ G\n",
      "Epoch 18:\n",
      "best score: 0.85\n",
      "> < > ^\n",
      "> H v H\n",
      "< ^ > H\n",
      "H v ^ G\n",
      "Epoch 19:\n",
      "best score: 0.83\n",
      "> < < <\n",
      "> H > H\n",
      "< ^ > H\n",
      "H v ^ G\n",
      "Epoch 20:\n",
      "best score: 0.83\n",
      "> < > >\n",
      "> H v H\n",
      "< ^ > H\n",
      "H v ^ G\n",
      "Epoch 21:\n",
      "best score: 0.83\n",
      "> > v <\n",
      "> H v H\n",
      "< ^ > H\n",
      "H v ^ G\n",
      "Epoch 22:\n",
      "best score: 0.83\n",
      "> < > >\n",
      "> H v H\n",
      "< ^ > H\n",
      "H v ^ G\n",
      "Epoch 23:\n",
      "best score: 0.86\n",
      "> < < <\n",
      "> H > H\n",
      "< ^ > H\n",
      "H v ^ G\n",
      "Epoch 24:\n",
      "best score: 0.85\n",
      "> < < <\n",
      "> H v H\n",
      "< ^ > H\n",
      "H v ^ G\n",
      "Epoch 25:\n",
      "best score: 0.86\n",
      "> < < <\n",
      "> H v H\n",
      "< ^ > H\n",
      "H v ^ G\n",
      "Epoch 26:\n",
      "best score: 0.84\n",
      "> < < <\n",
      "> H v H\n",
      "< ^ > H\n",
      "H v ^ G\n",
      "Epoch 27:\n",
      "best score: 0.84\n",
      "> < > >\n",
      "> H v H\n",
      "< ^ > H\n",
      "H v ^ G\n",
      "Epoch 28:\n",
      "best score: 0.86\n",
      "> < > <\n",
      "> H v H\n",
      "< ^ > H\n",
      "H v ^ G\n",
      "Epoch 29:\n",
      "best score: 0.85\n",
      "> < > <\n",
      "> H v H\n",
      "< ^ > H\n",
      "H v ^ G\n",
      "Epoch 30:\n",
      "best score: 0.86\n",
      "> < < <\n",
      "> H v H\n",
      "< ^ > H\n",
      "H v ^ G\n",
      "Epoch 31:\n",
      "best score: 0.86\n",
      "> < > <\n",
      "> H > H\n",
      "< ^ > H\n",
      "H v ^ G\n",
      "Epoch 32:\n",
      "best score: 0.84\n",
      "> < < <\n",
      "> H v H\n",
      "< ^ > H\n",
      "H v ^ G\n",
      "Epoch 33:\n",
      "best score: 0.85\n",
      "> < < <\n",
      "> H v H\n",
      "< ^ > H\n",
      "H v ^ G\n",
      "Epoch 34:\n",
      "best score: 0.83\n",
      "> < < <\n",
      "> H v H\n",
      "< ^ > H\n",
      "H v ^ G\n",
      "Epoch 35:\n",
      "best score: 0.86\n",
      "> < < <\n",
      "> H v H\n",
      "< ^ > H\n",
      "H v ^ G\n",
      "Epoch 36:\n",
      "best score: 0.9\n",
      "> < > <\n",
      "> H v H\n",
      "< ^ > H\n",
      "H v ^ G\n",
      "Epoch 37:\n",
      "best score: 0.88\n",
      "> < < <\n",
      "> H > H\n",
      "< ^ > H\n",
      "H v ^ G\n",
      "Epoch 38:\n",
      "best score: 0.84\n",
      "> < < <\n",
      "> H > H\n",
      "< ^ > H\n",
      "H v ^ G\n",
      "Epoch 39:\n",
      "best score: 0.85\n",
      "> < < <\n",
      "> H v H\n",
      "< ^ > H\n",
      "H v ^ G\n",
      "Epoch 40:\n",
      "best score: 0.86\n",
      "> < < <\n",
      "> H v H\n",
      "< ^ > H\n",
      "H v ^ G\n",
      "Epoch 41:\n",
      "best score: 0.83\n",
      "> < < <\n",
      "> H v H\n",
      "< ^ > H\n",
      "H v ^ G\n",
      "Epoch 42:\n",
      "best score: 0.83\n",
      "> < < <\n",
      "> H v H\n",
      "< ^ > H\n",
      "H v ^ G\n",
      "Epoch 43:\n",
      "best score: 0.84\n",
      "> < < <\n",
      "> H v H\n",
      "< ^ > H\n",
      "H v ^ G\n",
      "Epoch 44:\n",
      "best score: 0.87\n",
      "> < < <\n",
      "> H v H\n",
      "< ^ > H\n",
      "H v ^ G\n",
      "Epoch 45:\n",
      "best score: 0.85\n",
      "> < < <\n",
      "> H v H\n",
      "< ^ > H\n",
      "H v ^ G\n",
      "Epoch 46:\n",
      "best score: 0.84\n",
      "> < < <\n",
      "> H v H\n",
      "< ^ > H\n",
      "H v ^ G\n",
      "Epoch 47:\n",
      "best score: 0.85\n",
      "> < < <\n",
      "> H > H\n",
      "< ^ > H\n",
      "H v ^ G\n",
      "Epoch 48:\n",
      "best score: 0.86\n",
      "> < < <\n",
      "> H v H\n",
      "< ^ > H\n",
      "H v ^ G\n",
      "Epoch 49:\n",
      "best score: 0.84\n",
      "> < > <\n",
      "> H v H\n",
      "< ^ > H\n",
      "H v ^ G\n",
      "Epoch 50:\n",
      "best score: 0.84\n",
      "> < < <\n",
      "> H v H\n",
      "< ^ > H\n",
      "H v ^ G\n",
      "Epoch 51:\n",
      "best score: 0.84\n",
      "> < < <\n",
      "> H v H\n",
      "< ^ > H\n",
      "H v ^ G\n",
      "Epoch 52:\n",
      "best score: 0.84\n",
      "> < < <\n",
      "> H v H\n",
      "< ^ > H\n",
      "H v ^ G\n",
      "Epoch 53:\n",
      "best score: 0.85\n",
      "> < < <\n",
      "> H v H\n",
      "< ^ > H\n",
      "H v ^ G\n",
      "Epoch 54:\n",
      "best score: 0.85\n",
      "> < < <\n",
      "> H v H\n",
      "< ^ > H\n",
      "H v ^ G\n",
      "Epoch 55:\n",
      "best score: 0.83\n",
      "> < < <\n",
      "> H > H\n",
      "< ^ > H\n",
      "H v ^ G\n",
      "Epoch 56:\n",
      "best score: 0.84\n",
      "> < < <\n",
      "> H v H\n",
      "< ^ > H\n",
      "H v ^ G\n",
      "Epoch 57:\n",
      "best score: 0.85\n",
      "> < < <\n",
      "> H > H\n",
      "< ^ > H\n",
      "H v ^ G\n",
      "Epoch 58:\n"
     ]
    },
    {
     "ename": "KeyboardInterrupt",
     "evalue": "",
     "output_type": "error",
     "traceback": [
      "\u001b[0;31m---------------------------------------------------------------------------\u001b[0m",
      "\u001b[0;31mKeyboardInterrupt\u001b[0m                         Traceback (most recent call last)",
      "\u001b[0;32m<ipython-input-24-144043c2a0c0>\u001b[0m in \u001b[0;36m<module>\u001b[0;34m()\u001b[0m\n\u001b[1;32m     12\u001b[0m     \u001b[0;31m#add new policies to the pool\u001b[0m\u001b[0;34m\u001b[0m\u001b[0;34m\u001b[0m\u001b[0m\n\u001b[1;32m     13\u001b[0m     \u001b[0mpool\u001b[0m \u001b[0;34m=\u001b[0m \u001b[0mpool\u001b[0m \u001b[0;34m+\u001b[0m \u001b[0mcrossovered\u001b[0m \u001b[0;34m+\u001b[0m \u001b[0mmutated\u001b[0m\u001b[0;34m\u001b[0m\u001b[0m\n\u001b[0;32m---> 14\u001b[0;31m     \u001b[0mpool_scores\u001b[0m \u001b[0;34m=\u001b[0m \u001b[0;34m[\u001b[0m\u001b[0mevaluate\u001b[0m\u001b[0;34m(\u001b[0m\u001b[0mpolicy\u001b[0m\u001b[0;34m)\u001b[0m \u001b[0;32mfor\u001b[0m \u001b[0mpolicy\u001b[0m \u001b[0;32min\u001b[0m \u001b[0mpool\u001b[0m\u001b[0;34m]\u001b[0m\u001b[0;34m\u001b[0m\u001b[0m\n\u001b[0m\u001b[1;32m     15\u001b[0m \u001b[0;34m\u001b[0m\u001b[0m\n\u001b[1;32m     16\u001b[0m     \u001b[0;31m#select pool_size best policies\u001b[0m\u001b[0;34m\u001b[0m\u001b[0;34m\u001b[0m\u001b[0m\n",
      "\u001b[0;32m<ipython-input-24-144043c2a0c0>\u001b[0m in \u001b[0;36m<listcomp>\u001b[0;34m(.0)\u001b[0m\n\u001b[1;32m     12\u001b[0m     \u001b[0;31m#add new policies to the pool\u001b[0m\u001b[0;34m\u001b[0m\u001b[0;34m\u001b[0m\u001b[0m\n\u001b[1;32m     13\u001b[0m     \u001b[0mpool\u001b[0m \u001b[0;34m=\u001b[0m \u001b[0mpool\u001b[0m \u001b[0;34m+\u001b[0m \u001b[0mcrossovered\u001b[0m \u001b[0;34m+\u001b[0m \u001b[0mmutated\u001b[0m\u001b[0;34m\u001b[0m\u001b[0m\n\u001b[0;32m---> 14\u001b[0;31m     \u001b[0mpool_scores\u001b[0m \u001b[0;34m=\u001b[0m \u001b[0;34m[\u001b[0m\u001b[0mevaluate\u001b[0m\u001b[0;34m(\u001b[0m\u001b[0mpolicy\u001b[0m\u001b[0;34m)\u001b[0m \u001b[0;32mfor\u001b[0m \u001b[0mpolicy\u001b[0m \u001b[0;32min\u001b[0m \u001b[0mpool\u001b[0m\u001b[0;34m]\u001b[0m\u001b[0;34m\u001b[0m\u001b[0m\n\u001b[0m\u001b[1;32m     15\u001b[0m \u001b[0;34m\u001b[0m\u001b[0m\n\u001b[1;32m     16\u001b[0m     \u001b[0;31m#select pool_size best policies\u001b[0m\u001b[0;34m\u001b[0m\u001b[0;34m\u001b[0m\u001b[0m\n",
      "\u001b[0;32m<ipython-input-13-f3c3b6bce7eb>\u001b[0m in \u001b[0;36mevaluate\u001b[0;34m(policy, n_times)\u001b[0m\n\u001b[1;32m      1\u001b[0m \u001b[0;32mdef\u001b[0m \u001b[0mevaluate\u001b[0m\u001b[0;34m(\u001b[0m\u001b[0mpolicy\u001b[0m\u001b[0;34m,\u001b[0m \u001b[0mn_times\u001b[0m\u001b[0;34m=\u001b[0m\u001b[0;36m100\u001b[0m\u001b[0;34m)\u001b[0m\u001b[0;34m:\u001b[0m\u001b[0;34m\u001b[0m\u001b[0m\n\u001b[1;32m      2\u001b[0m     \u001b[0;34m\"\"\"Run several evaluations and average the score the policy gets.\"\"\"\u001b[0m\u001b[0;34m\u001b[0m\u001b[0m\n\u001b[0;32m----> 3\u001b[0;31m     \u001b[0mrewards\u001b[0m \u001b[0;34m=\u001b[0m \u001b[0;34m[\u001b[0m\u001b[0msample_reward\u001b[0m\u001b[0;34m(\u001b[0m\u001b[0menv\u001b[0m\u001b[0;34m,\u001b[0m\u001b[0mpolicy\u001b[0m\u001b[0;34m)\u001b[0m \u001b[0;32mfor\u001b[0m \u001b[0m_\u001b[0m \u001b[0;32min\u001b[0m \u001b[0mrange\u001b[0m\u001b[0;34m(\u001b[0m\u001b[0mn_times\u001b[0m\u001b[0;34m)\u001b[0m\u001b[0;34m]\u001b[0m\u001b[0;34m\u001b[0m\u001b[0m\n\u001b[0m\u001b[1;32m      4\u001b[0m     \u001b[0;32mreturn\u001b[0m \u001b[0mfloat\u001b[0m\u001b[0;34m(\u001b[0m\u001b[0mnp\u001b[0m\u001b[0;34m.\u001b[0m\u001b[0mmean\u001b[0m\u001b[0;34m(\u001b[0m\u001b[0mrewards\u001b[0m\u001b[0;34m)\u001b[0m\u001b[0;34m)\u001b[0m\u001b[0;34m\u001b[0m\u001b[0m\n",
      "\u001b[0;32m<ipython-input-13-f3c3b6bce7eb>\u001b[0m in \u001b[0;36m<listcomp>\u001b[0;34m(.0)\u001b[0m\n\u001b[1;32m      1\u001b[0m \u001b[0;32mdef\u001b[0m \u001b[0mevaluate\u001b[0m\u001b[0;34m(\u001b[0m\u001b[0mpolicy\u001b[0m\u001b[0;34m,\u001b[0m \u001b[0mn_times\u001b[0m\u001b[0;34m=\u001b[0m\u001b[0;36m100\u001b[0m\u001b[0;34m)\u001b[0m\u001b[0;34m:\u001b[0m\u001b[0;34m\u001b[0m\u001b[0m\n\u001b[1;32m      2\u001b[0m     \u001b[0;34m\"\"\"Run several evaluations and average the score the policy gets.\"\"\"\u001b[0m\u001b[0;34m\u001b[0m\u001b[0m\n\u001b[0;32m----> 3\u001b[0;31m     \u001b[0mrewards\u001b[0m \u001b[0;34m=\u001b[0m \u001b[0;34m[\u001b[0m\u001b[0msample_reward\u001b[0m\u001b[0;34m(\u001b[0m\u001b[0menv\u001b[0m\u001b[0;34m,\u001b[0m\u001b[0mpolicy\u001b[0m\u001b[0;34m)\u001b[0m \u001b[0;32mfor\u001b[0m \u001b[0m_\u001b[0m \u001b[0;32min\u001b[0m \u001b[0mrange\u001b[0m\u001b[0;34m(\u001b[0m\u001b[0mn_times\u001b[0m\u001b[0;34m)\u001b[0m\u001b[0;34m]\u001b[0m\u001b[0;34m\u001b[0m\u001b[0m\n\u001b[0m\u001b[1;32m      4\u001b[0m     \u001b[0;32mreturn\u001b[0m \u001b[0mfloat\u001b[0m\u001b[0;34m(\u001b[0m\u001b[0mnp\u001b[0m\u001b[0;34m.\u001b[0m\u001b[0mmean\u001b[0m\u001b[0;34m(\u001b[0m\u001b[0mrewards\u001b[0m\u001b[0;34m)\u001b[0m\u001b[0;34m)\u001b[0m\u001b[0;34m\u001b[0m\u001b[0m\n",
      "\u001b[0;32m<ipython-input-11-f65dd872f18e>\u001b[0m in \u001b[0;36msample_reward\u001b[0;34m(env, policy, t_max)\u001b[0m\n\u001b[1;32m     13\u001b[0m \u001b[0;34m\u001b[0m\u001b[0m\n\u001b[1;32m     14\u001b[0m     \u001b[0;32mwhile\u001b[0m \u001b[0mt\u001b[0m \u001b[0;34m<\u001b[0m \u001b[0mt_max\u001b[0m \u001b[0;32mand\u001b[0m \u001b[0;32mnot\u001b[0m \u001b[0mis_done\u001b[0m\u001b[0;34m:\u001b[0m\u001b[0;34m\u001b[0m\u001b[0m\n\u001b[0;32m---> 15\u001b[0;31m         \u001b[0mnew_obs\u001b[0m\u001b[0;34m,\u001b[0m \u001b[0mreward\u001b[0m\u001b[0;34m,\u001b[0m \u001b[0mis_done\u001b[0m\u001b[0;34m,\u001b[0m \u001b[0m_\u001b[0m \u001b[0;34m=\u001b[0m \u001b[0menv\u001b[0m\u001b[0;34m.\u001b[0m\u001b[0mstep\u001b[0m\u001b[0;34m(\u001b[0m\u001b[0mpolicy\u001b[0m\u001b[0;34m[\u001b[0m\u001b[0mcur_obs\u001b[0m\u001b[0;34m]\u001b[0m\u001b[0;34m)\u001b[0m\u001b[0;34m\u001b[0m\u001b[0m\n\u001b[0m\u001b[1;32m     16\u001b[0m         \u001b[0mcur_obs\u001b[0m \u001b[0;34m=\u001b[0m \u001b[0mnew_obs\u001b[0m\u001b[0;34m\u001b[0m\u001b[0m\n\u001b[1;32m     17\u001b[0m         \u001b[0mt\u001b[0m \u001b[0;34m+=\u001b[0m \u001b[0;36m1\u001b[0m\u001b[0;34m\u001b[0m\u001b[0m\n",
      "\u001b[0;32m/Users/pavelvoropaev/.virtualenvs/ml/lib/python3.6/site-packages/gym/core.py\u001b[0m in \u001b[0;36mstep\u001b[0;34m(self, action)\u001b[0m\n\u001b[1;32m     94\u001b[0m             \u001b[0minfo\u001b[0m \u001b[0;34m(\u001b[0m\u001b[0mdict\u001b[0m\u001b[0;34m)\u001b[0m\u001b[0;34m:\u001b[0m \u001b[0mcontains\u001b[0m \u001b[0mauxiliary\u001b[0m \u001b[0mdiagnostic\u001b[0m \u001b[0minformation\u001b[0m \u001b[0;34m(\u001b[0m\u001b[0mhelpful\u001b[0m \u001b[0;32mfor\u001b[0m \u001b[0mdebugging\u001b[0m\u001b[0;34m,\u001b[0m \u001b[0;32mand\u001b[0m \u001b[0msometimes\u001b[0m \u001b[0mlearning\u001b[0m\u001b[0;34m)\u001b[0m\u001b[0;34m\u001b[0m\u001b[0m\n\u001b[1;32m     95\u001b[0m         \"\"\"\n\u001b[0;32m---> 96\u001b[0;31m         \u001b[0;32mreturn\u001b[0m \u001b[0mself\u001b[0m\u001b[0;34m.\u001b[0m\u001b[0m_step\u001b[0m\u001b[0;34m(\u001b[0m\u001b[0maction\u001b[0m\u001b[0;34m)\u001b[0m\u001b[0;34m\u001b[0m\u001b[0m\n\u001b[0m\u001b[1;32m     97\u001b[0m \u001b[0;34m\u001b[0m\u001b[0m\n\u001b[1;32m     98\u001b[0m     \u001b[0;32mdef\u001b[0m \u001b[0mreset\u001b[0m\u001b[0;34m(\u001b[0m\u001b[0mself\u001b[0m\u001b[0;34m)\u001b[0m\u001b[0;34m:\u001b[0m\u001b[0;34m\u001b[0m\u001b[0m\n",
      "\u001b[0;32m/Users/pavelvoropaev/.virtualenvs/ml/lib/python3.6/site-packages/gym/wrappers/time_limit.py\u001b[0m in \u001b[0;36m_step\u001b[0;34m(self, action)\u001b[0m\n\u001b[1;32m     34\u001b[0m     \u001b[0;32mdef\u001b[0m \u001b[0m_step\u001b[0m\u001b[0;34m(\u001b[0m\u001b[0mself\u001b[0m\u001b[0;34m,\u001b[0m \u001b[0maction\u001b[0m\u001b[0;34m)\u001b[0m\u001b[0;34m:\u001b[0m\u001b[0;34m\u001b[0m\u001b[0m\n\u001b[1;32m     35\u001b[0m         \u001b[0;32massert\u001b[0m \u001b[0mself\u001b[0m\u001b[0;34m.\u001b[0m\u001b[0m_episode_started_at\u001b[0m \u001b[0;32mis\u001b[0m \u001b[0;32mnot\u001b[0m \u001b[0;32mNone\u001b[0m\u001b[0;34m,\u001b[0m \u001b[0;34m\"Cannot call env.step() before calling reset()\"\u001b[0m\u001b[0;34m\u001b[0m\u001b[0m\n\u001b[0;32m---> 36\u001b[0;31m         \u001b[0mobservation\u001b[0m\u001b[0;34m,\u001b[0m \u001b[0mreward\u001b[0m\u001b[0;34m,\u001b[0m \u001b[0mdone\u001b[0m\u001b[0;34m,\u001b[0m \u001b[0minfo\u001b[0m \u001b[0;34m=\u001b[0m \u001b[0mself\u001b[0m\u001b[0;34m.\u001b[0m\u001b[0menv\u001b[0m\u001b[0;34m.\u001b[0m\u001b[0mstep\u001b[0m\u001b[0;34m(\u001b[0m\u001b[0maction\u001b[0m\u001b[0;34m)\u001b[0m\u001b[0;34m\u001b[0m\u001b[0m\n\u001b[0m\u001b[1;32m     37\u001b[0m         \u001b[0mself\u001b[0m\u001b[0;34m.\u001b[0m\u001b[0m_elapsed_steps\u001b[0m \u001b[0;34m+=\u001b[0m \u001b[0;36m1\u001b[0m\u001b[0;34m\u001b[0m\u001b[0m\n\u001b[1;32m     38\u001b[0m \u001b[0;34m\u001b[0m\u001b[0m\n",
      "\u001b[0;32m/Users/pavelvoropaev/.virtualenvs/ml/lib/python3.6/site-packages/gym/core.py\u001b[0m in \u001b[0;36mstep\u001b[0;34m(self, action)\u001b[0m\n\u001b[1;32m     94\u001b[0m             \u001b[0minfo\u001b[0m \u001b[0;34m(\u001b[0m\u001b[0mdict\u001b[0m\u001b[0;34m)\u001b[0m\u001b[0;34m:\u001b[0m \u001b[0mcontains\u001b[0m \u001b[0mauxiliary\u001b[0m \u001b[0mdiagnostic\u001b[0m \u001b[0minformation\u001b[0m \u001b[0;34m(\u001b[0m\u001b[0mhelpful\u001b[0m \u001b[0;32mfor\u001b[0m \u001b[0mdebugging\u001b[0m\u001b[0;34m,\u001b[0m \u001b[0;32mand\u001b[0m \u001b[0msometimes\u001b[0m \u001b[0mlearning\u001b[0m\u001b[0;34m)\u001b[0m\u001b[0;34m\u001b[0m\u001b[0m\n\u001b[1;32m     95\u001b[0m         \"\"\"\n\u001b[0;32m---> 96\u001b[0;31m         \u001b[0;32mreturn\u001b[0m \u001b[0mself\u001b[0m\u001b[0;34m.\u001b[0m\u001b[0m_step\u001b[0m\u001b[0;34m(\u001b[0m\u001b[0maction\u001b[0m\u001b[0;34m)\u001b[0m\u001b[0;34m\u001b[0m\u001b[0m\n\u001b[0m\u001b[1;32m     97\u001b[0m \u001b[0;34m\u001b[0m\u001b[0m\n\u001b[1;32m     98\u001b[0m     \u001b[0;32mdef\u001b[0m \u001b[0mreset\u001b[0m\u001b[0;34m(\u001b[0m\u001b[0mself\u001b[0m\u001b[0;34m)\u001b[0m\u001b[0;34m:\u001b[0m\u001b[0;34m\u001b[0m\u001b[0m\n",
      "\u001b[0;32m/Users/pavelvoropaev/.virtualenvs/ml/lib/python3.6/site-packages/gym/envs/toy_text/discrete.py\u001b[0m in \u001b[0;36m_step\u001b[0;34m(self, a)\u001b[0m\n\u001b[1;32m     57\u001b[0m         \u001b[0mself\u001b[0m\u001b[0;34m.\u001b[0m\u001b[0ms\u001b[0m \u001b[0;34m=\u001b[0m \u001b[0ms\u001b[0m\u001b[0;34m\u001b[0m\u001b[0m\n\u001b[1;32m     58\u001b[0m         \u001b[0mself\u001b[0m\u001b[0;34m.\u001b[0m\u001b[0mlastaction\u001b[0m\u001b[0;34m=\u001b[0m\u001b[0ma\u001b[0m\u001b[0;34m\u001b[0m\u001b[0m\n\u001b[0;32m---> 59\u001b[0;31m         \u001b[0;32mreturn\u001b[0m \u001b[0;34m(\u001b[0m\u001b[0ms\u001b[0m\u001b[0;34m,\u001b[0m \u001b[0mr\u001b[0m\u001b[0;34m,\u001b[0m \u001b[0md\u001b[0m\u001b[0;34m,\u001b[0m \u001b[0;34m{\u001b[0m\u001b[0;34m\"prob\"\u001b[0m \u001b[0;34m:\u001b[0m \u001b[0mp\u001b[0m\u001b[0;34m}\u001b[0m\u001b[0;34m)\u001b[0m\u001b[0;34m\u001b[0m\u001b[0m\n\u001b[0m",
      "\u001b[0;31mKeyboardInterrupt\u001b[0m: "
     ]
    }
   ],
   "source": [
    "for epoch in range(n_epochs):\n",
    "    print(\"Epoch %s:\"%epoch)\n",
    "    \n",
    "    crossovered = [crossover(pool[np.random.randint(pool_size)],\n",
    "                             pool[np.random.randint(pool_size)])\n",
    "                   for _ in range(n_crossovers)]\n",
    "    mutated = [mutation(pool[np.random.randint(pool_size)]) for _ in range(n_mutations)]\n",
    "    \n",
    "    #add new policies to the pool\n",
    "    pool = pool + crossovered + mutated\n",
    "    pool_scores = [evaluate(policy) for policy in pool]\n",
    "    \n",
    "    #select pool_size best policies\n",
    "    selected_indices = np.argsort(pool_scores)[-pool_size:]\n",
    "    pool = [pool[i] for i in selected_indices]\n",
    "    pool_scores = [pool_scores[i] for i in selected_indices]\n",
    "\n",
    "    #print the best policy so far (last in ascending score order)\n",
    "    print(\"best score:\", pool_scores[-1])\n",
    "    print_policy(pool[-1])"
   ]
  },
  {
   "cell_type": "markdown",
   "metadata": {},
   "source": [
    "#### Now we can try make our crossover a little bit smarter :) \n",
    "#### So each time we will take action from better policy  with higher probability"
   ]
  },
  {
   "cell_type": "code",
   "execution_count": 88,
   "metadata": {
    "collapsed": true
   },
   "outputs": [],
   "source": [
    "def smart_crossover(policy1, policy2, p=0.8):    \n",
    "    score1 = evaluate(policy1)\n",
    "    score2 = evaluate(policy2)\n",
    "    \n",
    "    if score1 < score2:\n",
    "        p = 1 - p\n",
    "    \n",
    "    return np.where(np.random.random(policy1.shape[0]) <= p, policy1, policy2)"
   ]
  },
  {
   "cell_type": "markdown",
   "metadata": {},
   "source": [
    "#### Main loop with smart crossover and more diverse pool"
   ]
  },
  {
   "cell_type": "code",
   "execution_count": 30,
   "metadata": {
    "scrolled": true
   },
   "outputs": [
    {
     "name": "stdout",
     "output_type": "stream",
     "text": [
      "initializing...\n",
      "Epoch 0:\n",
      "best score: 0.28\n",
      "^ < < <\n",
      "^ H v H\n",
      "^ v > H\n",
      "H > v G\n",
      "Epoch 1:\n",
      "best score: 0.33\n",
      "^ > > v\n",
      "^ H > H\n",
      "< < < H\n",
      "H < < G\n",
      "Epoch 2:\n",
      "best score: 0.37\n",
      "v > ^ >\n",
      "> H v H\n",
      "v < > H\n",
      "H < v G\n",
      "Epoch 3:\n",
      "best score: 0.35\n",
      "< < > <\n",
      "v H > H\n",
      "^ > ^ H\n",
      "H < ^ G\n",
      "Epoch 4:\n",
      "best score: 0.39\n",
      "< < > >\n",
      "> H > H\n",
      "^ > ^ H\n",
      "H < v G\n",
      "Epoch 5:\n",
      "best score: 0.5\n",
      "> v > v\n",
      "> H ^ H\n",
      "< v v H\n",
      "H v ^ G\n",
      "Epoch 6:\n",
      "best score: 0.76\n",
      "> v > <\n",
      "> H ^ H\n",
      "< v ^ H\n",
      "H < ^ G\n",
      "Epoch 7:\n",
      "best score: 0.69\n",
      "> v v <\n",
      "> H v H\n",
      "< v ^ H\n",
      "H v ^ G\n",
      "Epoch 8:\n",
      "best score: 0.74\n",
      "> < > v\n",
      "> H ^ H\n",
      "< v v H\n",
      "H v v G\n",
      "Epoch 9:\n",
      "best score: 0.74\n",
      "> ^ v >\n",
      "> H < H\n",
      "< ^ ^ H\n",
      "H ^ v G\n",
      "Epoch 10:\n",
      "best score: 0.76\n",
      "> ^ > >\n",
      "> H ^ H\n",
      "< ^ ^ H\n",
      "H v v G\n",
      "Epoch 11:\n",
      "best score: 0.77\n",
      "> > > <\n",
      "> H ^ H\n",
      "< ^ ^ H\n",
      "H v ^ G\n",
      "Epoch 12:\n",
      "best score: 0.78\n",
      "> < > <\n",
      "> H > H\n",
      "< ^ ^ H\n",
      "H v ^ G\n",
      "Epoch 13:\n",
      "best score: 0.81\n",
      "> < > <\n",
      "> H < H\n",
      "< ^ ^ H\n",
      "H v ^ G\n",
      "Epoch 14:\n",
      "best score: 0.82\n",
      "> > v <\n",
      "> H v H\n",
      "< ^ > H\n",
      "H v ^ G\n",
      "Epoch 15:\n",
      "best score: 0.79\n",
      "> > ^ v\n",
      "> H > H\n",
      "< ^ > H\n",
      "H v ^ G\n",
      "Epoch 16:\n",
      "best score: 0.81\n",
      "> v v <\n",
      "> H v H\n",
      "< ^ > H\n",
      "H v ^ G\n",
      "Epoch 17:\n",
      "best score: 0.82\n",
      "> v > <\n",
      "> H ^ H\n",
      "< ^ > H\n",
      "H v ^ G\n",
      "Epoch 18:\n",
      "best score: 0.83\n",
      "> < < ^\n",
      "> H v H\n",
      "< ^ > H\n",
      "H v ^ G\n",
      "Epoch 19:\n",
      "best score: 0.81\n",
      "> v ^ <\n",
      "> H v H\n",
      "< ^ > H\n",
      "H v ^ G\n",
      "Epoch 20:\n",
      "best score: 0.8\n",
      "> v v <\n",
      "> H v H\n",
      "< ^ > H\n",
      "H v ^ G\n",
      "Epoch 21:\n",
      "best score: 0.82\n",
      "> v v <\n",
      "> H > H\n",
      "< ^ > H\n",
      "H v ^ G\n",
      "Epoch 22:\n",
      "best score: 0.82\n",
      "> v ^ <\n",
      "> H v H\n",
      "< ^ > H\n",
      "H v ^ G\n",
      "Epoch 23:\n",
      "best score: 0.82\n",
      "> < v <\n",
      "> H v H\n",
      "< ^ > H\n",
      "H v ^ G\n",
      "Epoch 24:\n",
      "best score: 0.8\n",
      "> < > v\n",
      "> H > H\n",
      "< ^ > H\n",
      "H v ^ G\n",
      "Epoch 25:\n",
      "best score: 0.83\n",
      "> < v <\n",
      "> H v H\n",
      "< ^ > H\n",
      "H v ^ G\n",
      "Epoch 26:\n",
      "best score: 0.82\n",
      "> < ^ >\n",
      "> H > H\n",
      "< ^ > H\n",
      "H v ^ G\n",
      "Epoch 27:\n",
      "best score: 0.81\n",
      "> ^ v <\n",
      "> H > H\n",
      "< ^ > H\n",
      "H v ^ G\n",
      "Epoch 28:\n",
      "best score: 0.82\n",
      "> < ^ ^\n",
      "> H > H\n",
      "< ^ > H\n",
      "H v ^ G\n",
      "Epoch 29:\n",
      "best score: 0.83\n",
      "> v ^ <\n",
      "> H > H\n",
      "< ^ > H\n",
      "H v ^ G\n"
     ]
    }
   ],
   "source": [
    "print(\"initializing...\")\n",
    "pool = [get_random_policy() for _ in range(pool_size)]\n",
    "pool_scores = [evaluate(policy) for policy in pool]\n",
    "n_random_policy = 10\n",
    "\n",
    "for epoch in range(n_epochs):\n",
    "    print(\"Epoch %s:\"%epoch)\n",
    "    \n",
    "    crossovered = [smart_crossover(pool[np.random.randint(pool_size)],\n",
    "                                   pool[np.random.randint(pool_size)])\n",
    "                   for _ in range(n_crossovers)]\n",
    "    mutated = [mutation(pool[np.random.randint(pool_size)], p=0.2) for _ in range(n_mutations)]\n",
    "    \n",
    "    assert type(crossovered) == type(mutated) == list\n",
    "    \n",
    "    #add new policies to the pool\n",
    "    pool = pool + crossovered + mutated\n",
    "    pool_scores = [evaluate(policy) for policy in pool]\n",
    "    \n",
    "    #select pool_size best policies\n",
    "    selected_indices = np.argsort(pool_scores)[-pool_size + n_random_policy:]\n",
    "    random_policies = [pool[np.random.randint(pool_size)] for _ in range(n_random_policy)]\n",
    "    pool = [pool[i] for i in selected_indices] + random_policies\n",
    "    pool_scores = [evaluate(policy) for policy in random_policies] + [pool_scores[i] for i in selected_indices]\n",
    "\n",
    "    #print the best policy so far (last in ascending score order)\n",
    "    print(\"best score:\", pool_scores[-1])\n",
    "    print_policy(pool[-1])"
   ]
  },
  {
   "cell_type": "code",
   "execution_count": null,
   "metadata": {
    "collapsed": true
   },
   "outputs": [],
   "source": []
  }
 ],
 "metadata": {
  "kernelspec": {
   "display_name": "Python 3",
   "language": "python",
   "name": "python3"
  },
  "language_info": {
   "codemirror_mode": {
    "name": "ipython",
    "version": 3
   },
   "file_extension": ".py",
   "mimetype": "text/x-python",
   "name": "python",
   "nbconvert_exporter": "python",
   "pygments_lexer": "ipython3",
   "version": "3.6.1"
  }
 },
 "nbformat": 4,
 "nbformat_minor": 1
}
